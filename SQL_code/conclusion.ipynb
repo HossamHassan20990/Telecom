{
 "cells": [
  {
   "cell_type": "markdown",
   "metadata": {},
   "source": [
    "# initial analysis using SQL \n",
    "\n",
    "* `7043` customers \n",
    "* `1869` churned representing `26%` of total customers\n",
    "* `930` males, representing `26%` of total male churned \n",
    "* `939` females, representing `26%` of total female churned\n",
    "* AVG age is `49` for churned VS `45` stayed \n",
    "* The most common classification mentioned by churned is `competitor`\n",
    "\n",
    "* with `841` times, representing `44%` of the total reasons \n",
    "\n",
    "* And the main reason is competitor has `better devices` comes \n",
    "\n",
    "* `313` times, representing `37%` of the total reasons for the competitor customer\n",
    " * San Diego has the highest number of churn customers\n",
    "\n",
    "* with `185` customers, representing `16%` of the total number of cities \n",
    "\n",
    "* which is `1,106` cities.\n",
    " * The satisfaction score has a significant positive impact on churn\n",
    "    customers as the highest score of churn customers is `3`, and the AVG is `1`.\n",
    "\n"
   ]
  },
  {
   "cell_type": "markdown",
   "metadata": {},
   "source": [
    "# conclusion\n",
    "\n",
    "* We need to know more about the new devices of competitors and why customers prefer them  over our devices in terms of services and speed\n",
    "* The necessity of developing our customer service to increase the satisfaction of current customers."
   ]
  }
 ],
 "metadata": {
  "language_info": {
   "name": "python"
  }
 },
 "nbformat": 4,
 "nbformat_minor": 2
}
